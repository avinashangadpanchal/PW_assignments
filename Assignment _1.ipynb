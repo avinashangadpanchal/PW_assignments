{
 "cells": [
  {
   "cell_type": "markdown",
   "id": "a6f69a2d",
   "metadata": {},
   "source": [
    "# TOPIC: Python Basics Variable"
   ]
  },
  {
   "cell_type": "markdown",
   "id": "9108889e",
   "metadata": {},
   "source": [
    "1. Declare two variables, `x` and `y`, and assign them integer values. Swap the\n",
    "values of these variables without using any temporary variable."
   ]
  },
  {
   "cell_type": "code",
   "execution_count": 2,
   "id": "b067121e",
   "metadata": {},
   "outputs": [
    {
     "name": "stdout",
     "output_type": "stream",
     "text": [
      "10\n",
      "20\n"
     ]
    }
   ],
   "source": [
    "x =20\n",
    "y =10\n",
    "x,y = y,x\n",
    "print(x)\n",
    "print(y)"
   ]
  },
  {
   "cell_type": "markdown",
   "id": "328f3bd6",
   "metadata": {},
   "source": [
    "2. Create a program that calculates the area of a rectangle. Take the length and\n",
    "width as inputs from the user and store them in variables. Calculate and\n",
    "display the area."
   ]
  },
  {
   "cell_type": "code",
   "execution_count": 5,
   "id": "d4457c8e",
   "metadata": {},
   "outputs": [
    {
     "name": "stdout",
     "output_type": "stream",
     "text": [
      "Please mention Length of Rectangle: 100\n",
      "Please mention Width of Rectangle: 200\n",
      "Area of rectangle is 20000 \n"
     ]
    }
   ],
   "source": [
    "# Area of Rectangle\n",
    "Length = int(input(\"Please mention Length of Rectangle: \"))\n",
    "Width = int(input(\"Please mention Width of Rectangle: \"))\n",
    "area = Length * Width\n",
    "print(f'Area of rectangle is {area} ')"
   ]
  },
  {
   "cell_type": "markdown",
   "id": "abcb3f5f",
   "metadata": {},
   "source": [
    "3. Write a Python program that converts temperatures from Celsius to\n",
    "Fahrenheit. Take the temperature in Celsius as input, store it in a variable,\n",
    "convert it to Fahrenheit, and display the result."
   ]
  },
  {
   "cell_type": "code",
   "execution_count": 7,
   "id": "869080dc",
   "metadata": {},
   "outputs": [
    {
     "name": "stdout",
     "output_type": "stream",
     "text": [
      "Please Enter the temperature in Celsius: 40\n",
      "The temperature in Fahrenheit will be 104.0\n"
     ]
    }
   ],
   "source": [
    "#Temperature conversion from Celcius to Fahrenheit\n",
    "C = int(input(\"Please Enter the temperature in Celsius: \"))\n",
    "F = (9/5)*C +32\n",
    "print(f\"The temperature in Fahrenheit will be {F}\")"
   ]
  },
  {
   "cell_type": "markdown",
   "id": "ca422939",
   "metadata": {},
   "source": [
    "# TOPIC: String Based Questions"
   ]
  },
  {
   "cell_type": "markdown",
   "id": "c5bda4c6",
   "metadata": {},
   "source": [
    "1. Write a Python program that takes a string as input and prints the length of\n",
    "the string."
   ]
  },
  {
   "cell_type": "code",
   "execution_count": 9,
   "id": "0a78563f",
   "metadata": {},
   "outputs": [
    {
     "name": "stdout",
     "output_type": "stream",
     "text": [
      "Please input a string:Avinash\n",
      "The length of given string is 7\n"
     ]
    }
   ],
   "source": [
    "s = input(\"Please input a string:\")\n",
    "l = len(s)\n",
    "print(f\"The length of given string is {l}\")"
   ]
  },
  {
   "cell_type": "markdown",
   "id": "1c8c4f9d",
   "metadata": {},
   "source": [
    "2. Create a program that takes a sentence from the user and counts the number\n",
    "of vowels (a, e, i, o, u) in the string."
   ]
  },
  {
   "cell_type": "code",
   "execution_count": 17,
   "id": "18e4a8de",
   "metadata": {},
   "outputs": [
    {
     "name": "stdout",
     "output_type": "stream",
     "text": [
      "Please input a sentence: avinash\n",
      "Number of vowels in sentence are 3\n"
     ]
    }
   ],
   "source": [
    "vowels = \"aeiouAEIOU\"\n",
    "s = input(\"Please input a sentence: \")\n",
    "count = 0\n",
    "for i in s :\n",
    "    if i in vowels:\n",
    "        count += 1\n",
    "print(f\"Number of vowels in sentence are {count}\")"
   ]
  },
  {
   "cell_type": "markdown",
   "id": "8cd02bc4",
   "metadata": {},
   "source": [
    "3. Given a string, reverse the order of characters using string slicing and print\n",
    "the reversed string."
   ]
  },
  {
   "cell_type": "code",
   "execution_count": 21,
   "id": "09a698fd",
   "metadata": {},
   "outputs": [
    {
     "name": "stdout",
     "output_type": "stream",
     "text": [
      "Please enter a string: avi\n",
      "Reverse of Given string is: iva\n"
     ]
    }
   ],
   "source": [
    "str = input(\"Please enter a string: \")\n",
    "rev = str[::-1]\n",
    "print(f\"Reverse of Given string is: {rev}\")"
   ]
  },
  {
   "cell_type": "markdown",
   "id": "15857737",
   "metadata": {},
   "source": [
    "4. Write a program that takes a string as input and checks if it is a palindrome\n",
    "(reads the same forwards and backwards)."
   ]
  },
  {
   "cell_type": "code",
   "execution_count": 24,
   "id": "d52245eb",
   "metadata": {},
   "outputs": [
    {
     "name": "stdout",
     "output_type": "stream",
     "text": [
      "Please enter a string: sisis\n",
      "Given string is a palindrome\n"
     ]
    }
   ],
   "source": [
    "str = input(\"Please enter a string: \")\n",
    "reverse = str[::-1]\n",
    "if str == reverse:\n",
    "    print(\"Given string is a palindrome\")\n",
    "else:\n",
    "    print(\"Given string is not a palindrome\")"
   ]
  },
  {
   "cell_type": "markdown",
   "id": "4af10ff6",
   "metadata": {},
   "source": [
    "5. Create a program that takes a string as input and removes all the spaces from\n",
    "it. Print the modified string without spaces."
   ]
  },
  {
   "cell_type": "code",
   "execution_count": 25,
   "id": "d83c5610",
   "metadata": {},
   "outputs": [
    {
     "name": "stdout",
     "output_type": "stream",
     "text": [
      "Please input a sentence:avinash is a data scientist\n",
      "avinashisadatascientist\n"
     ]
    }
   ],
   "source": [
    "str = input(\"Please input a sentence:\")\n",
    "sentence = str.replace(\" \",\"\")\n",
    "print(sentence)"
   ]
  }
 ],
 "metadata": {
  "kernelspec": {
   "display_name": "Python 3 (ipykernel)",
   "language": "python",
   "name": "python3"
  },
  "language_info": {
   "codemirror_mode": {
    "name": "ipython",
    "version": 3
   },
   "file_extension": ".py",
   "mimetype": "text/x-python",
   "name": "python",
   "nbconvert_exporter": "python",
   "pygments_lexer": "ipython3",
   "version": "3.10.9"
  }
 },
 "nbformat": 4,
 "nbformat_minor": 5
}
